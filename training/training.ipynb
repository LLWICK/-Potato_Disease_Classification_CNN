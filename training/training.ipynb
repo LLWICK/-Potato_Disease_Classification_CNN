{
 "cells": [
  {
   "cell_type": "code",
   "execution_count": null,
   "id": "4103bf44-bcbd-4e5e-94cb-d29fe5fa2261",
   "metadata": {},
   "outputs": [],
   "source": []
  }
 ],
 "metadata": {
  "kernelspec": {
   "display_name": "",
   "name": ""
  },
  "language_info": {
   "name": ""
  }
 },
 "nbformat": 4,
 "nbformat_minor": 5
}
