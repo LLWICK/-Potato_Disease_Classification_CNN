{
 "cells": [
  {
   "cell_type": "code",
   "execution_count": 1,
   "id": "4103bf44-bcbd-4e5e-94cb-d29fe5fa2261",
   "metadata": {},
   "outputs": [],
   "source": [
    "import tensorflow as tf"
   ]
  },
  {
   "cell_type": "code",
   "execution_count": 6,
   "id": "1fce4a50-9072-4c52-8964-92b1366de7af",
   "metadata": {},
   "outputs": [],
   "source": [
    "images_ds = tf.data.Dataset.list_files('dataset/PlantVillage/*/*', shuffle=False)"
   ]
  },
  {
   "cell_type": "code",
   "execution_count": 7,
   "id": "ea6d14aa-f14f-49e5-aca0-854fcc06d859",
   "metadata": {},
   "outputs": [
    {
     "name": "stdout",
     "output_type": "stream",
     "text": [
      "b'dataset\\\\PlantVillage\\\\Potato___Early_blight\\\\001187a0-57ab-4329-baff-e7246a9edeb0___RS_Early.B 8178.JPG'\n",
      "b'dataset\\\\PlantVillage\\\\Potato___Early_blight\\\\002a55fb-7a3d-4a3a-aca8-ce2d5ebc6925___RS_Early.B 8170.JPG'\n",
      "b'dataset\\\\PlantVillage\\\\Potato___Early_blight\\\\009c8c31-f22d-4ffd-8f16-189c6f06c577___RS_Early.B 7885.JPG'\n"
     ]
    }
   ],
   "source": [
    "for i in images_ds.take(3).as_numpy_iterator():\n",
    "    print(i)"
   ]
  },
  {
   "cell_type": "code",
   "execution_count": 25,
   "id": "c0cecb81-3d8b-444f-88d1-a8f320ec2387",
   "metadata": {},
   "outputs": [
    {
     "name": "stdout",
     "output_type": "stream",
     "text": [
      "b'dataset\\\\PlantVillage\\\\Potato___Late_blight\\\\1b8f80ae-38a2-4d08-ae92-f80ff4459a73___RS_LB 2554.JPG'\n",
      "b'dataset\\\\PlantVillage\\\\Potato___Early_blight\\\\bcedd1ec-17b4-495b-b47f-5877ef836f88___RS_Early.B 7248.JPG'\n",
      "b'dataset\\\\PlantVillage\\\\Potato___Early_blight\\\\22b28f50-4141-4ca7-be3f-ccb1c521c2df___RS_Early.B 8285.JPG'\n"
     ]
    }
   ],
   "source": [
    "images_ds = images_ds.shuffle(100)\n",
    "for i in images_ds.take(3).as_numpy_iterator():\n",
    "    print(i)"
   ]
  },
  {
   "cell_type": "code",
   "execution_count": null,
   "id": "10921c8b-aae3-435e-ad90-db5e8b2a7584",
   "metadata": {},
   "outputs": [],
   "source": []
  }
 ],
 "metadata": {
  "kernelspec": {
   "display_name": "Python [conda env:base] *",
   "language": "python",
   "name": "conda-base-py"
  },
  "language_info": {
   "codemirror_mode": {
    "name": "ipython",
    "version": 3
   },
   "file_extension": ".py",
   "mimetype": "text/x-python",
   "name": "python",
   "nbconvert_exporter": "python",
   "pygments_lexer": "ipython3",
   "version": "3.12.7"
  }
 },
 "nbformat": 4,
 "nbformat_minor": 5
}
